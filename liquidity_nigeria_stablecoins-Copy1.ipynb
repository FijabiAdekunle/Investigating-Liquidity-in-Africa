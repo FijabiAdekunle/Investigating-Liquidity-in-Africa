{
 "cells": [
  {
   "cell_type": "markdown",
   "id": "8d04e003",
   "metadata": {},
   "source": [
    "\n",
    "# Liquidity in Africa – Nigeria Stablecoin Case Study\n",
    "\n",
    "**Objective:** Support LAVA's Technical Research Analyst task by pairing onchain + offchain data to study **where liquidity is sourced** and **how efficiently it is used**, with a concrete **Nigeria** focus on stablecoin adoption.\n",
    "\n",
    "> Marine engineering lens: treat liquidity like a flow network — identify sources (tanks), pipes (rails), valves (policies), bottlenecks (frictions), and recirculation (reuse of capital).\n"
   ]
  },
  {
   "cell_type": "code",
   "execution_count": 15,
   "id": "d420d6d5",
   "metadata": {},
   "outputs": [
    {
     "name": "stdout",
     "output_type": "stream",
     "text": [
      "Base dir: C:\\Users\\DELL\\15. LAVA Project\\LAVA-Project--Investigating-Liquidity-in-Africa\n"
     ]
    }
   ],
   "source": [
    "\n",
    "# --- Setup ---\n",
    "\n",
    "# File and System Operations:\n",
    "import os\n",
    "import json\n",
    "\n",
    "# Time and Date Handling:\n",
    "import time\n",
    "from datetime import datetime\n",
    "\n",
    "# Data Manipukation:\n",
    "import pandas as pd\n",
    "import numpy as np\n",
    "\n",
    "#  Networking and Web Requests:\n",
    "import requests\n",
    "\n",
    "# Data Manipulation\n",
    "import matplotlib.pyplot as plt\n",
    "import seaborn as sns\n",
    "\n",
    "# Mathematics:\n",
    "import math\n",
    "# Display settings\n",
    "pd.set_option('display.max_columns', 100)\n",
    "pd.set_option('display.width', 120)\n",
    "\n",
    "# Paths\n",
    "BASE_DIR = os.path.abspath(os.path.join(os.getcwd()))\n",
    "DATA_RAW = os.path.join(BASE_DIR, \"data\", \"raw\")\n",
    "DATA_PRO = os.path.join(BASE_DIR, \"data\", \"processed\")\n",
    "os.makedirs(DATA_RAW, exist_ok=True)\n",
    "os.makedirs(DATA_PRO, exist_ok=True)\n",
    "\n",
    "print(\"Base dir:\", BASE_DIR)\n"
   ]
  },
  {
   "cell_type": "markdown",
   "id": "53db7934",
   "metadata": {},
   "source": [
    "\n",
    "## Data Sources (this notebook)\n",
    "\n",
    "1. **World Bank – Remittances (Offchain)**  \n",
    "   - Indicator: `BX.TRF.PWKR.CD.DT` (Personal remittances received, current US$)  \n",
    "   - Country: `NGA` (Nigeria)\n",
    "\n",
    "2. **Google Trends – Interest Over Time (Offchain proxy for behavior)**  \n",
    "   - Region: `NG`  \n",
    "   - Queries: `\"USDT\"`, `\"crypto\"`, `\"binance\"`, `\"p2p\"`, `\"dollar rate\"`\n",
    "\n",
    "3. **Dune Analytics – Stablecoin Transfers (Onchain, optional)**  \n",
    "   - Example: USDT (ERC20) contract `0xdAC17F958D2ee523a2206206994597C13D831ec7`  \n",
    "   - Aggregate daily transfer amounts to understand macro flows (global), then align with Nigeria offchain context.\n"
   ]
  },
  {
   "cell_type": "markdown",
   "id": "1a6e6532",
   "metadata": {},
   "source": [
    "### World Bank: Nigeria Remittances (NGA)"
   ]
  },
  {
   "cell_type": "code",
   "execution_count": 18,
   "id": "7068a584",
   "metadata": {},
   "outputs": [
    {
     "data": {
      "text/html": [
       "<div>\n",
       "<style scoped>\n",
       "    .dataframe tbody tr th:only-of-type {\n",
       "        vertical-align: middle;\n",
       "    }\n",
       "\n",
       "    .dataframe tbody tr th {\n",
       "        vertical-align: top;\n",
       "    }\n",
       "\n",
       "    .dataframe thead th {\n",
       "        text-align: right;\n",
       "    }\n",
       "</style>\n",
       "<table border=\"1\" class=\"dataframe\">\n",
       "  <thead>\n",
       "    <tr style=\"text-align: right;\">\n",
       "      <th></th>\n",
       "      <th>date</th>\n",
       "      <th>value</th>\n",
       "    </tr>\n",
       "  </thead>\n",
       "  <tbody>\n",
       "    <tr>\n",
       "      <th>60</th>\n",
       "      <td>2020</td>\n",
       "      <td>1.720755e+10</td>\n",
       "    </tr>\n",
       "    <tr>\n",
       "      <th>61</th>\n",
       "      <td>2021</td>\n",
       "      <td>1.948340e+10</td>\n",
       "    </tr>\n",
       "    <tr>\n",
       "      <th>62</th>\n",
       "      <td>2022</td>\n",
       "      <td>2.012761e+10</td>\n",
       "    </tr>\n",
       "    <tr>\n",
       "      <th>63</th>\n",
       "      <td>2023</td>\n",
       "      <td>1.954955e+10</td>\n",
       "    </tr>\n",
       "    <tr>\n",
       "      <th>64</th>\n",
       "      <td>2024</td>\n",
       "      <td>2.129296e+10</td>\n",
       "    </tr>\n",
       "  </tbody>\n",
       "</table>\n",
       "</div>"
      ],
      "text/plain": [
       "    date         value\n",
       "60  2020  1.720755e+10\n",
       "61  2021  1.948340e+10\n",
       "62  2022  2.012761e+10\n",
       "63  2023  1.954955e+10\n",
       "64  2024  2.129296e+10"
      ]
     },
     "execution_count": 18,
     "metadata": {},
     "output_type": "execute_result"
    }
   ],
   "source": [
    "\n",
    "def fetch_worldbank_indicator(country: str, indicator: str) -> pd.DataFrame:\n",
    "    \"\"\"Fetches a World Bank indicator time series for a given country.\n",
    "    country: ISO3 country code (e.g., 'NGA')\n",
    "    indicator: e.g., 'BX.TRF.PWKR.CD.DT'\n",
    "    Returns a tidy DataFrame with columns: ['date', 'value'] sorted by date asc.\n",
    "    \"\"\"\n",
    "    url = f\"https://api.worldbank.org/v2/country/{country}/indicator/{indicator}?format=json&per_page=20000\"\n",
    "    r = requests.get(url, timeout=30)\n",
    "    r.raise_for_status()\n",
    "    data = r.json()\n",
    "    if not isinstance(data, list) or len(data) < 2:\n",
    "        raise ValueError(\"Unexpected World Bank response format\")\n",
    "    rows = data[1]\n",
    "    recs = []\n",
    "    for row in rows:\n",
    "        val = row.get('value', None)\n",
    "        date = row.get('date', None)\n",
    "        if date is not None:\n",
    "            recs.append({'date': int(date), 'value': float(val) if val is not None else None})\n",
    "    df = pd.DataFrame(recs).sort_values('date').reset_index(drop=True)\n",
    "    return df\n",
    "\n",
    "wb_remit = fetch_worldbank_indicator(country=\"NGA\", indicator=\"BX.TRF.PWKR.CD.DT\")\n",
    "wb_remit.to_csv(os.path.join(DATA_RAW, \"worldbank_remittances_nga.csv\"), index=False)\n",
    "wb_remit.tail()\n"
   ]
  },
  {
   "cell_type": "markdown",
   "id": "19c77d1a",
   "metadata": {},
   "source": [
    "### Google Trends: Interest Over Time (Nigeria)"
   ]
  },
  {
   "cell_type": "code",
   "execution_count": 20,
   "id": "158fd129",
   "metadata": {},
   "outputs": [],
   "source": [
    "\n",
    "# Note: Requires internet access. If running locally, ensure you're connected.\n",
    "try:\n",
    "    from pytrends.request import TrendReq\n",
    "    pytrends = TrendReq(hl='en-US', tz=0)\n",
    "    kw_list = [\"USDT\", \"crypto\", \"binance\", \"p2p\", \"dollar rate\"]\n",
    "    pytrends.build_payload(kw_list, timeframe='today 5-y', geo='NG')\n",
    "    trends = pytrends.interest_over_time().reset_index()\n",
    "    if 'isPartial' in trends.columns:\n",
    "        trends = trends.drop(columns=['isPartial'])\n",
    "    trends.to_csv(os.path.join(DATA_RAW, \"google_trends_ng.csv\"), index=False)\n",
    "    trends.tail()\n",
    "except Exception as e:\n",
    "    print(\"Google Trends fetch skipped or failed:\", e)\n",
    "    trends = pd.DataFrame()\n"
   ]
  },
  {
   "cell_type": "markdown",
   "id": "739ddfcb",
   "metadata": {},
   "source": [
    "### Dune: Stablecoin Transfers (USDT ERC20 example) — Optional"
   ]
  },
  {
   "cell_type": "code",
   "execution_count": 22,
   "id": "19fdbde2",
   "metadata": {},
   "outputs": [
    {
     "name": "stdout",
     "output_type": "stream",
     "text": [
      "Set DUNE_API_KEY and DUNE_QUERY_ID to fetch onchain data.\n"
     ]
    },
    {
     "data": {
      "text/html": [
       "<div>\n",
       "<style scoped>\n",
       "    .dataframe tbody tr th:only-of-type {\n",
       "        vertical-align: middle;\n",
       "    }\n",
       "\n",
       "    .dataframe tbody tr th {\n",
       "        vertical-align: top;\n",
       "    }\n",
       "\n",
       "    .dataframe thead th {\n",
       "        text-align: right;\n",
       "    }\n",
       "</style>\n",
       "<table border=\"1\" class=\"dataframe\">\n",
       "  <thead>\n",
       "    <tr style=\"text-align: right;\">\n",
       "      <th></th>\n",
       "    </tr>\n",
       "  </thead>\n",
       "  <tbody>\n",
       "  </tbody>\n",
       "</table>\n",
       "</div>"
      ],
      "text/plain": [
       "Empty DataFrame\n",
       "Columns: []\n",
       "Index: []"
      ]
     },
     "execution_count": 22,
     "metadata": {},
     "output_type": "execute_result"
    }
   ],
   "source": [
    "\n",
    "# This cell sketches how to call Dune's API. Replace QUERY_ID with your own Dune query id.\n",
    "# The query should aggregate daily USDT transfer amounts from erc20 transfer events.\n",
    "# Example (pseudocode SQL for Dune v2 datasets):\n",
    "#   SELECT\n",
    "#     date_trunc('day', evt_block_time) AS day,\n",
    "#     SUM(value)/1e6 AS usdt_transferred  -- USDT has 6 decimals\n",
    "#   FROM erc20_ethereum.evt_Transfer\n",
    "#   WHERE contract_address = '\\x...dAC17F958D2ee523a2206206994597C13D831ec7'\n",
    "#   GROUP BY 1 ORDER BY 1;\n",
    "\n",
    "DUNE_API_KEY = os.getenv(\"DUNE_API_KEY\", \"\")\n",
    "QUERY_ID = os.getenv(\"DUNE_QUERY_ID\", \"\")  # put your query id here\n",
    "\n",
    "def dune_results(query_id: str, api_key: str) -> pd.DataFrame:\n",
    "    if not query_id or not api_key:\n",
    "        print(\"Set DUNE_API_KEY and DUNE_QUERY_ID to fetch onchain data.\")\n",
    "        return pd.DataFrame()\n",
    "\n",
    "    # Start execution\n",
    "    headers = {\"x-dune-api-key\": api_key, \"accept\": \"application/json\", \"content-type\": \"application/json\"}\n",
    "    exec_url = f\"https://api.dune.com/api/v1/query/{query_id}/execute\"\n",
    "    res = requests.post(exec_url, headers=headers, json={})\n",
    "    res.raise_for_status()\n",
    "    job = res.json()\n",
    "    job_id = job.get(\"execution_id\")\n",
    "    if not job_id:\n",
    "        raise RuntimeError(\"Dune: no execution_id returned\")\n",
    "\n",
    "    # Poll for completion\n",
    "    result_url = f\"https://api.dune.com/api/v1/execution/{job_id}/results\"\n",
    "    for _ in range(60):\n",
    "        r = requests.get(result_url, headers=headers)\n",
    "        if r.status_code == 200:\n",
    "            out = r.json()\n",
    "            rows = out.get(\"result\", {}).get(\"rows\", [])\n",
    "            return pd.DataFrame(rows)\n",
    "        time.sleep(3)\n",
    "    raise TimeoutError(\"Dune: result polling timeout\")\n",
    "\n",
    "dune_df = dune_results(QUERY_ID, DUNE_API_KEY)\n",
    "if not dune_df.empty:\n",
    "    # Try to coerce time column\n",
    "    for c in dune_df.columns:\n",
    "        if \"time\" in c or \"date\" in c or c.lower() in [\"day\", \"dt\", \"timestamp\"]:\n",
    "            try:\n",
    "                dune_df[c] = pd.to_datetime(dune_df[c])\n",
    "            except Exception:\n",
    "                pass\n",
    "    dune_df.to_csv(os.path.join(DATA_RAW, \"dune_usdt_transfers.csv\"), index=False)\n",
    "dune_df.head() if not dune_df.empty else dune_df\n"
   ]
  },
  {
   "cell_type": "markdown",
   "id": "d400f31a",
   "metadata": {},
   "source": [
    "## Align & Merge (Offchain vs Onchain Proxies)"
   ]
  },
  {
   "cell_type": "code",
   "execution_count": 24,
   "id": "352a33b5",
   "metadata": {},
   "outputs": [
    {
     "data": {
      "text/html": [
       "<div>\n",
       "<style scoped>\n",
       "    .dataframe tbody tr th:only-of-type {\n",
       "        vertical-align: middle;\n",
       "    }\n",
       "\n",
       "    .dataframe tbody tr th {\n",
       "        vertical-align: top;\n",
       "    }\n",
       "\n",
       "    .dataframe thead th {\n",
       "        text-align: right;\n",
       "    }\n",
       "</style>\n",
       "<table border=\"1\" class=\"dataframe\">\n",
       "  <thead>\n",
       "    <tr style=\"text-align: right;\">\n",
       "      <th></th>\n",
       "      <th>dt</th>\n",
       "      <th>remittances_usd</th>\n",
       "      <th>usdt</th>\n",
       "      <th>crypto</th>\n",
       "      <th>binance</th>\n",
       "      <th>p2p</th>\n",
       "      <th>dollar_rate</th>\n",
       "    </tr>\n",
       "  </thead>\n",
       "  <tbody>\n",
       "    <tr>\n",
       "      <th>764</th>\n",
       "      <td>2024-08-31</td>\n",
       "      <td>1.954955e+10</td>\n",
       "      <td>25</td>\n",
       "      <td>34</td>\n",
       "      <td>19</td>\n",
       "      <td>2</td>\n",
       "      <td>18</td>\n",
       "    </tr>\n",
       "    <tr>\n",
       "      <th>765</th>\n",
       "      <td>2024-09-30</td>\n",
       "      <td>1.954955e+10</td>\n",
       "      <td>22</td>\n",
       "      <td>34</td>\n",
       "      <td>18</td>\n",
       "      <td>3</td>\n",
       "      <td>15</td>\n",
       "    </tr>\n",
       "    <tr>\n",
       "      <th>766</th>\n",
       "      <td>2024-10-31</td>\n",
       "      <td>1.954955e+10</td>\n",
       "      <td>13</td>\n",
       "      <td>32</td>\n",
       "      <td>8</td>\n",
       "      <td>2</td>\n",
       "      <td>14</td>\n",
       "    </tr>\n",
       "    <tr>\n",
       "      <th>767</th>\n",
       "      <td>2024-11-30</td>\n",
       "      <td>1.954955e+10</td>\n",
       "      <td>18</td>\n",
       "      <td>33</td>\n",
       "      <td>12</td>\n",
       "      <td>3</td>\n",
       "      <td>24</td>\n",
       "    </tr>\n",
       "    <tr>\n",
       "      <th>768</th>\n",
       "      <td>2024-12-31</td>\n",
       "      <td>2.129296e+10</td>\n",
       "      <td>16</td>\n",
       "      <td>28</td>\n",
       "      <td>11</td>\n",
       "      <td>1</td>\n",
       "      <td>16</td>\n",
       "    </tr>\n",
       "  </tbody>\n",
       "</table>\n",
       "</div>"
      ],
      "text/plain": [
       "            dt  remittances_usd  usdt  crypto  binance  p2p  dollar_rate\n",
       "764 2024-08-31     1.954955e+10    25      34       19    2           18\n",
       "765 2024-09-30     1.954955e+10    22      34       18    3           15\n",
       "766 2024-10-31     1.954955e+10    13      32        8    2           14\n",
       "767 2024-11-30     1.954955e+10    18      33       12    3           24\n",
       "768 2024-12-31     2.129296e+10    16      28       11    1           16"
      ]
     },
     "execution_count": 24,
     "metadata": {},
     "output_type": "execute_result"
    }
   ],
   "source": [
    "\n",
    "# Convert World Bank annual data to datetime (year-end) and forward-fill to monthly for alignment\n",
    "wb = wb_remit.copy()\n",
    "wb['date'] = pd.to_datetime(wb['date'].astype(str) + \"-12-31\")\n",
    "wb = wb.rename(columns={'value': 'remittances_usd'}).set_index('date').sort_index()\n",
    "wb_m = wb.resample('M').ffill().reset_index()\n",
    "\n",
    "# Trends (already time-based)\n",
    "if not trends.empty:\n",
    "    trends_m = trends.rename(columns={'date': 'dt'})\n",
    "    trends_m = trends_m.rename(columns={c: c.replace(\" \", \"_\").lower() for c in trends_m.columns})\n",
    "else:\n",
    "    trends_m = pd.DataFrame()\n",
    "\n",
    "# Dune (daily) if present\n",
    "if not dune_df.empty:\n",
    "    # Heuristic: look for a day/date/datetime column\n",
    "    time_col = None\n",
    "    for c in dune_df.columns:\n",
    "        if c.lower() in [\"day\", \"date\", \"dt\", \"timestamp\"] or \"time\" in c.lower():\n",
    "            time_col = c\n",
    "            break\n",
    "    if time_col:\n",
    "        dd = dune_df.copy()\n",
    "        dd[time_col] = pd.to_datetime(dd[time_col])\n",
    "        dd = dd.rename(columns={time_col: 'dt'}).sort_values('dt')\n",
    "        dune_d = dd\n",
    "    else:\n",
    "        dune_d = pd.DataFrame()\n",
    "else:\n",
    "    dune_d = pd.DataFrame()\n",
    "\n",
    "# Example merge: monthly view\n",
    "dfm = wb_m.rename(columns={'date': 'dt'})\n",
    "if not trends_m.empty:\n",
    "    dfm = pd.merge_asof(dfm.sort_values('dt'), trends_m.sort_values('dt'), on='dt', direction='nearest')\n",
    "if not dune_d.empty:\n",
    "    dune_m = dune_d.set_index('dt').resample('M').sum().reset_index()\n",
    "    dfm = pd.merge_asof(dfm.sort_values('dt'), dune_m.sort_values('dt'), on='dt', direction='nearest')\n",
    "\n",
    "dfm.to_csv(os.path.join(DATA_PRO, \"merged_monthly.csv\"), index=False)\n",
    "dfm.tail()\n"
   ]
  },
  {
   "cell_type": "markdown",
   "id": "b20e24cb",
   "metadata": {},
   "source": [
    "## Visualizations"
   ]
  },
  {
   "cell_type": "code",
   "execution_count": 26,
   "id": "688c823b",
   "metadata": {},
   "outputs": [
    {
     "data": {
      "image/png": "[encoded data removed]",
      "text/plain": [
       "<Figure size 640x480 with 1 Axes>"
      ]
     },
     "metadata": {},
     "output_type": "display_data"
    }
   ],
   "source": [
    "\n",
    "# 1) Remittances over time\n",
    "if not wb_remit.empty:\n",
    "    plt.figure()\n",
    "    plt.plot(pd.to_datetime(wb_remit['date'].astype(str) + \"-12-31\"), wb_remit['value'])\n",
    "    plt.title(\"Nigeria Personal Remittances (World Bank)\")\n",
    "    plt.xlabel(\"Year\")\n",
    "    plt.ylabel(\"USD\")\n",
    "    plt.tight_layout()\n",
    "    plt.show()\n"
   ]
  },
  {
   "cell_type": "code",
   "execution_count": 27,
   "id": "f1b405d7",
   "metadata": {},
   "outputs": [
    {
     "data": {
      "image/png": "[encoded data removed]",
      "text/plain": [
       "<Figure size 640x480 with 1 Axes>"
      ]
     },
     "metadata": {},
     "output_type": "display_data"
    }
   ],
   "source": [
    "\n",
    "# 2) Google Trends: 'USDT' interest over time (if available)\n",
    "if not trends.empty and 'USDT' in trends.columns:\n",
    "    plt.figure()\n",
    "    plt.plot(trends['date'], trends['USDT'])\n",
    "    plt.title(\"Google Trends (Nigeria) - 'USDT'\")\n",
    "    plt.xlabel(\"Date\")\n",
    "    plt.ylabel(\"Interest\")\n",
    "    plt.tight_layout()\n",
    "    plt.show()\n"
   ]
  },
  {
   "cell_type": "code",
   "execution_count": 28,
   "id": "c70701c8",
   "metadata": {},
   "outputs": [],
   "source": [
    "\n",
    "# 3) Correlation snapshot (merged monthly)\n",
    "if not dfm.empty:\n",
    "    num_cols = dfm.select_dtypes(include=[np.number]).columns.tolist()\n",
    "    corr = dfm[num_cols].corr()\n",
    "    corr\n"
   ]
  },
  {
   "cell_type": "markdown",
   "id": "082d8e49",
   "metadata": {},
   "source": [
    "\n",
    "## Efficiency Framework (Template)\n",
    "\n",
    "Define an **efficiency score** for each rail (banks, mobile money, stablecoins) and country:\n",
    "\n",
    "- **Cost** — FX spread + fees (lower is better)\n",
    "- **Speed** — settlement time (faster is better)\n",
    "- **Recycling** — % of capital that recirculates locally vs one-way outflows (higher is better)\n",
    "\n",
    "Score each 0–1 then take a weighted average to get an overall efficiency score.\n"
   ]
  },
  {
   "cell_type": "code",
   "execution_count": 30,
   "id": "de072002",
   "metadata": {},
   "outputs": [
    {
     "data": {
      "text/html": [
       "<div>\n",
       "<style scoped>\n",
       "    .dataframe tbody tr th:only-of-type {\n",
       "        vertical-align: middle;\n",
       "    }\n",
       "\n",
       "    .dataframe tbody tr th {\n",
       "        vertical-align: top;\n",
       "    }\n",
       "\n",
       "    .dataframe thead th {\n",
       "        text-align: right;\n",
       "    }\n",
       "</style>\n",
       "<table border=\"1\" class=\"dataframe\">\n",
       "  <thead>\n",
       "    <tr style=\"text-align: right;\">\n",
       "      <th></th>\n",
       "      <th>rail</th>\n",
       "      <th>cost_score</th>\n",
       "      <th>speed_score</th>\n",
       "      <th>recycling_score</th>\n",
       "      <th>efficiency</th>\n",
       "    </tr>\n",
       "  </thead>\n",
       "  <tbody>\n",
       "    <tr>\n",
       "      <th>0</th>\n",
       "      <td>banks</td>\n",
       "      <td>0.4</td>\n",
       "      <td>0.3</td>\n",
       "      <td>0.5</td>\n",
       "      <td>0.40</td>\n",
       "    </tr>\n",
       "    <tr>\n",
       "      <th>1</th>\n",
       "      <td>mobile_money</td>\n",
       "      <td>0.6</td>\n",
       "      <td>0.7</td>\n",
       "      <td>0.6</td>\n",
       "      <td>0.63</td>\n",
       "    </tr>\n",
       "    <tr>\n",
       "      <th>2</th>\n",
       "      <td>stablecoins</td>\n",
       "      <td>0.8</td>\n",
       "      <td>0.9</td>\n",
       "      <td>0.7</td>\n",
       "      <td>0.80</td>\n",
       "    </tr>\n",
       "  </tbody>\n",
       "</table>\n",
       "</div>"
      ],
      "text/plain": [
       "           rail  cost_score  speed_score  recycling_score  efficiency\n",
       "0         banks         0.4          0.3              0.5        0.40\n",
       "1  mobile_money         0.6          0.7              0.6        0.63\n",
       "2   stablecoins         0.8          0.9              0.7        0.80"
      ]
     },
     "execution_count": 30,
     "metadata": {},
     "output_type": "execute_result"
    }
   ],
   "source": [
    "\n",
    "# Template scoring (placeholder values; replace with real measurements)\n",
    "rails = pd.DataFrame({\n",
    "    'rail': ['banks', 'mobile_money', 'stablecoins'],\n",
    "    'cost_score': [0.4, 0.6, 0.8],\n",
    "    'speed_score': [0.3, 0.7, 0.9],\n",
    "    'recycling_score': [0.5, 0.6, 0.7],\n",
    "})\n",
    "weights = {'cost_score': 0.4, 'speed_score': 0.3, 'recycling_score': 0.3}\n",
    "rails['efficiency'] = (\n",
    "    rails['cost_score']*weights['cost_score'] +\n",
    "    rails['speed_score']*weights['speed_score'] +\n",
    "    rails['recycling_score']*weights['recycling_score']\n",
    ")\n",
    "rails\n"
   ]
  },
  {
   "cell_type": "markdown",
   "id": "b84549fb",
   "metadata": {},
   "source": [
    "\n",
    "## Insights (Fill as you Analyze)\n",
    "- Stablecoin interest spikes in Nigeria correspond to periods of FX stress (cross-validate with CBN policy timelines).\n",
    "- Remittance inflows act as an offchain liquidity source; how much of this is converted to stablecoins?\n",
    "- Which rails show the highest efficiency score, and where are the bottlenecks?\n",
    "- What local nuances (P2P markets, mobile money limits) change the picture vs Kenya or South Africa?\n"
   ]
  }
 ],
 "metadata": {
  "kernelspec": {
   "display_name": "Python 3 (ipykernel)",
   "language": "python",
   "name": "python3"
  },
  "language_info": {
   "codemirror_mode": {
    "name": "ipython",
    "version": 3
   },
   "file_extension": ".py",
   "mimetype": "text/x-python",
   "name": "python",
   "nbconvert_exporter": "python",
   "pygments_lexer": "ipython3",
   "version": "3.12.4"
  }
 },
 "nbformat": 4,
 "nbformat_minor": 5
}
